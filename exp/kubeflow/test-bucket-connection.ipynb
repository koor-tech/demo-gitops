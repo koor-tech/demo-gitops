{
 "cells": [
  {
   "cell_type": "markdown",
   "id": "364552a1-7035-41b8-845a-b59c213098d2",
   "metadata": {},
   "source": [
    "# Install boto3"
   ]
  },
  {
   "cell_type": "code",
   "execution_count": 1,
   "id": "b079145b-86b9-48be-96d3-c2041564ef41",
   "metadata": {},
   "outputs": [
    {
     "name": "stdout",
     "output_type": "stream",
     "text": [
      "Collecting boto3\n",
      "  Downloading boto3-1.34.81-py3-none-any.whl (139 kB)\n",
      "\u001b[2K     \u001b[90m━━━━━━━━━━━━━━━━━━━━━━━━━━━━━━━━━━━━━━━\u001b[0m \u001b[32m139.3/139.3 kB\u001b[0m \u001b[31m2.3 MB/s\u001b[0m eta \u001b[36m0:00:00\u001b[0ma \u001b[36m0:00:01\u001b[0m\n",
      "\u001b[?25hCollecting jmespath<2.0.0,>=0.7.1\n",
      "  Downloading jmespath-1.0.1-py3-none-any.whl (20 kB)\n",
      "Collecting s3transfer<0.11.0,>=0.10.0\n",
      "  Downloading s3transfer-0.10.1-py3-none-any.whl (82 kB)\n",
      "\u001b[2K     \u001b[90m━━━━━━━━━━━━━━━━━━━━━━━━━━━━━━━━━━━━━━━━\u001b[0m \u001b[32m82.2/82.2 kB\u001b[0m \u001b[31m1.9 MB/s\u001b[0m eta \u001b[36m0:00:00\u001b[0m:00:01\u001b[0m\n",
      "\u001b[?25hCollecting botocore<1.35.0,>=1.34.81\n",
      "  Downloading botocore-1.34.81-py3-none-any.whl (12.1 MB)\n",
      "\u001b[2K     \u001b[90m━━━━━━━━━━━━━━━━━━━━━━━━━━━━━━━━━━━━━━━━\u001b[0m \u001b[32m12.1/12.1 MB\u001b[0m \u001b[31m31.2 MB/s\u001b[0m eta \u001b[36m0:00:00\u001b[0m00:01\u001b[0m00:01\u001b[0m\n",
      "\u001b[?25hRequirement already satisfied: urllib3<1.27,>=1.25.4 in /opt/conda/lib/python3.8/site-packages (from botocore<1.35.0,>=1.34.81->boto3) (1.26.15)\n",
      "Requirement already satisfied: python-dateutil<3.0.0,>=2.1 in /opt/conda/lib/python3.8/site-packages (from botocore<1.35.0,>=1.34.81->boto3) (2.8.2)\n",
      "Requirement already satisfied: six>=1.5 in /opt/conda/lib/python3.8/site-packages (from python-dateutil<3.0.0,>=2.1->botocore<1.35.0,>=1.34.81->boto3) (1.16.0)\n",
      "Installing collected packages: jmespath, botocore, s3transfer, boto3\n",
      "Successfully installed boto3-1.34.81 botocore-1.34.81 jmespath-1.0.1 s3transfer-0.10.1\n"
     ]
    }
   ],
   "source": [
    "!pip install boto3"
   ]
  },
  {
   "cell_type": "markdown",
   "id": "20d2bb27-0272-4072-aa90-584ba7e9a0a6",
   "metadata": {},
   "source": [
    "# Test connection to bucket"
   ]
  },
  {
   "cell_type": "code",
   "execution_count": 1,
   "id": "caffd501-0495-46eb-b7ba-9d14644770fd",
   "metadata": {},
   "outputs": [
    {
     "data": {
      "text/plain": [
       "{'ResponseMetadata': {'RequestId': 'tx00000dd802b421d32fc6a-006615cf8f-1908-ceph-objectstore',\n",
       "  'HostId': '',\n",
       "  'HTTPStatusCode': 200,\n",
       "  'HTTPHeaders': {'x-amz-request-id': 'tx00000dd802b421d32fc6a-006615cf8f-1908-ceph-objectstore',\n",
       "   'content-type': 'application/xml',\n",
       "   'date': 'Tue, 09 Apr 2024 23:30:23 GMT',\n",
       "   'x-envoy-upstream-service-time': '4',\n",
       "   'server': 'envoy',\n",
       "   'transfer-encoding': 'chunked'},\n",
       "  'RetryAttempts': 0},\n",
       " 'Buckets': [{'Name': 'team-1-bucket-378db4be-7959-4c9e-bd91-5d4c5c88d21c',\n",
       "   'CreationDate': datetime.datetime(2024, 4, 9, 2, 34, 41, 814000, tzinfo=tzlocal())}],\n",
       " 'Owner': {'DisplayName': 'obc-team-1-team-1-bucket-1dca4fdd-468a-4865-b1d9-8427cf93685e',\n",
       "  'ID': 'obc-team-1-team-1-bucket-1dca4fdd-468a-4865-b1d9-8427cf93685e'}}"
      ]
     },
     "execution_count": 1,
     "metadata": {},
     "output_type": "execute_result"
    }
   ],
   "source": [
    "import os\n",
    "import boto3\n",
    "\n",
    "aws_access_key_id = os.environ['AWS_ACCESS_KEY_ID']\n",
    "aws_secret_access_key = os.environ['AWS_SECRET_ACCESS_KEY']\n",
    "endpoint_url = \"http://\" + os.environ['BUCKET_HOST']\n",
    "\n",
    "s3_client = boto3.client('s3',\n",
    "    aws_access_key_id=aws_access_key_id,\n",
    "    aws_secret_access_key=aws_secret_access_key,\n",
    "    endpoint_url=endpoint_url,\n",
    "    use_ssl=False,\n",
    ")\n",
    "s3_client.list_buckets()"
   ]
  },
  {
   "cell_type": "code",
   "execution_count": null,
   "id": "d5e239ef-0fc5-43fd-82f1-3cd9ef1805fc",
   "metadata": {},
   "outputs": [],
   "source": []
  }
 ],
 "metadata": {
  "kernelspec": {
   "display_name": "Python 3 (ipykernel)",
   "language": "python",
   "name": "python3"
  },
  "language_info": {
   "codemirror_mode": {
    "name": "ipython",
    "version": 3
   },
   "file_extension": ".py",
   "mimetype": "text/x-python",
   "name": "python",
   "nbconvert_exporter": "python",
   "pygments_lexer": "ipython3",
   "version": "3.8.10"
  }
 },
 "nbformat": 4,
 "nbformat_minor": 5
}
